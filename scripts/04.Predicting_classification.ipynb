{
 "cells": [
  {
   "cell_type": "code",
   "execution_count": 29,
   "metadata": {},
   "outputs": [],
   "source": [
    "import pandas as pd\n",
    "import numpy as np\n",
    "from sklearn.impute import KNNImputer\n",
    "import os\n",
    "from sklearn.preprocessing import MinMaxScaler\n",
    "from sklearn.tree import DecisionTreeClassifier\n",
    "from sklearn.ensemble import BaggingClassifier"
   ]
  },
  {
   "cell_type": "code",
   "execution_count": 110,
   "metadata": {},
   "outputs": [],
   "source": [
    "os.chdir(\"/Users/kacpergruca/Documents/Studia/UW/2_semestr/Machine learning 1/ML_classification\")\n",
    "\n",
    "df = pd.read_csv('data/input/client_attrition_train.csv')\n",
    "df_test = pd.read_csv('data/input/client_attrition_test.csv')"
   ]
  },
  {
   "cell_type": "code",
   "execution_count": 111,
   "metadata": {},
   "outputs": [],
   "source": [
    "def process_dataframe(df, if_train):\n",
    "    df['customer_sex'] = df['customer_sex'].map({'M': 1, 'F': 0})\n",
    "    salary_mapping = {\n",
    "        'below 40K': 1,\n",
    "        '40-60K': 2,\n",
    "        '60-80K': 3,\n",
    "        '80-120K': 4,\n",
    "        '120K and more': 5\n",
    "    }\n",
    "    df['customer_salary_range'] = df['customer_salary_range'].map(salary_mapping)\n",
    "\n",
    "    education_mapping = {\n",
    "        'Unknown': np.nan,\n",
    "        'Uneducated': 1,\n",
    "        'High School': 2,\n",
    "        'College': 3,\n",
    "        'Graduate': 4,\n",
    "        'Post-Graduate': 5,\n",
    "        'Doctorate': 6\n",
    "    }\n",
    "    df['customer_education'] = df['customer_education'].map(education_mapping)\n",
    "\n",
    "    df['customer_civil_status'].replace('Unknown', pd.NA, inplace=True)\n",
    "    df_encoded = pd.get_dummies(df['customer_civil_status'], drop_first=True)\n",
    "    df_encoded.rename(columns={'Married': 'customer_married', 'Single': 'customer_single'}, inplace=True)\n",
    "\n",
    "    df = pd.concat([df, df_encoded], axis=1)\n",
    "\n",
    "    classification_mapping = {\n",
    "        'Blue': 1,\n",
    "        'Silver': 2,\n",
    "        'Gold': 3,\n",
    "        'Platinum': 4\n",
    "    }\n",
    "    df['credit_card_classification'] = df['credit_card_classification'].map(classification_mapping)\n",
    "\n",
    "    if if_train:\n",
    "        df['account_status'] = df['account_status'].map({'open': 1, 'closed': 0})\n",
    "\n",
    "    df = df.drop(['customer_civil_status','customer_id'], axis=1)\n",
    "    \n",
    "    return df"
   ]
  },
  {
   "cell_type": "code",
   "execution_count": 112,
   "metadata": {},
   "outputs": [],
   "source": [
    "df = process_dataframe(df, if_train=True)\n",
    "df_test = process_dataframe(df_test, if_train=False)   "
   ]
  },
  {
   "cell_type": "code",
   "execution_count": 113,
   "metadata": {},
   "outputs": [],
   "source": [
    "x_col = ['customer_age', 'customer_sex',\n",
    "       'customer_number_of_dependents', 'customer_education',\n",
    "       'customer_salary_range',\n",
    "       'customer_relationship_length', 'customer_available_credit_limit',\n",
    "       'credit_card_classification', 'total_products', 'period_inactive',\n",
    "       'contacts_in_last_year', 'credit_card_debt_balance',\n",
    "       'remaining_credit_limit', 'transaction_amount_ratio',\n",
    "       'total_transaction_amount', 'total_transaction_count',\n",
    "       'transaction_count_ratio', 'average_utilization',\n",
    "       'customer_married', 'customer_single']\n",
    "\n",
    "y_col = ['account_status']"
   ]
  },
  {
   "cell_type": "code",
   "execution_count": 114,
   "metadata": {},
   "outputs": [],
   "source": [
    "def scaling(df, x_col):\n",
    "    scaler = MinMaxScaler()\n",
    "    df.loc[:,x_col] = pd.DataFrame(scaler.fit_transform(df.loc[:,x_col]), columns = df.loc[:,x_col].columns)\n",
    "    df.loc[:,x_col].head()\n",
    "\n",
    "    imputer = KNNImputer(n_neighbors=5)\n",
    "    df.loc[:,x_col] = pd.DataFrame(imputer.fit_transform(df.loc[:,x_col]),columns = df.loc[:,x_col].columns)\n",
    "\n",
    "    return df"
   ]
  },
  {
   "cell_type": "code",
   "execution_count": 115,
   "metadata": {},
   "outputs": [
    {
     "name": "stderr",
     "output_type": "stream",
     "text": [
      "/var/folders/rh/w6cl6rd95vj2g4s03scz_4fc0000gn/T/ipykernel_91858/925807974.py:3: DeprecationWarning: In a future version, `df.iloc[:, i] = newvals` will attempt to set the values inplace instead of always setting a new array. To retain the old behavior, use either `df[df.columns[i]] = newvals` or, if columns are non-unique, `df.isetitem(i, newvals)`\n",
      "  df.loc[:,x_col] = pd.DataFrame(scaler.fit_transform(df.loc[:,x_col]), columns = df.loc[:,x_col].columns)\n",
      "/var/folders/rh/w6cl6rd95vj2g4s03scz_4fc0000gn/T/ipykernel_91858/925807974.py:3: DeprecationWarning: In a future version, `df.iloc[:, i] = newvals` will attempt to set the values inplace instead of always setting a new array. To retain the old behavior, use either `df[df.columns[i]] = newvals` or, if columns are non-unique, `df.isetitem(i, newvals)`\n",
      "  df.loc[:,x_col] = pd.DataFrame(scaler.fit_transform(df.loc[:,x_col]), columns = df.loc[:,x_col].columns)\n"
     ]
    }
   ],
   "source": [
    "df = scaling(df, x_col)\n",
    "df_test = scaling(df_test, x_col)"
   ]
  },
  {
   "attachments": {},
   "cell_type": "markdown",
   "metadata": {},
   "source": [
    "After Feature Selection"
   ]
  },
  {
   "cell_type": "code",
   "execution_count": 116,
   "metadata": {},
   "outputs": [],
   "source": [
    "mi_score = ['period_inactive',\n",
    "            'contacts_in_last_year',\n",
    "            'credit_card_debt_balance',\n",
    "            'remaining_credit_limit',\n",
    "            'transaction_amount_ratio',\n",
    "            'total_transaction_amount',\n",
    "            'total_transaction_count',\n",
    "            'transaction_count_ratio',\n",
    "            'average_utilization']"
   ]
  },
  {
   "cell_type": "code",
   "execution_count": 117,
   "metadata": {},
   "outputs": [
    {
     "name": "stderr",
     "output_type": "stream",
     "text": [
      "/Library/Frameworks/Python.framework/Versions/3.11/lib/python3.11/site-packages/sklearn/ensemble/_bagging.py:802: DataConversionWarning: A column-vector y was passed when a 1d array was expected. Please change the shape of y to (n_samples, ), for example using ravel().\n",
      "  y = column_or_1d(y, warn=True)\n"
     ]
    },
    {
     "name": "stdout",
     "output_type": "stream",
     "text": [
      "Test Results:\n",
      "      customer_age  customer_sex  customer_number_of_dependents  \\\n",
      "0         0.431818           1.0                            0.4   \n",
      "1         0.522727           1.0                            0.4   \n",
      "2         0.590909           0.0                            0.4   \n",
      "3         0.409091           0.0                            0.2   \n",
      "4         0.477273           1.0                            0.4   \n",
      "...            ...           ...                            ...   \n",
      "5058      0.250000           0.0                            0.2   \n",
      "5059      0.227273           0.0                            0.4   \n",
      "5060      0.377273           0.0                            0.6   \n",
      "5061      0.477273           1.0                            0.6   \n",
      "5062      0.318182           1.0                            0.4   \n",
      "\n",
      "      customer_education  customer_salary_range  customer_relationship_length  \\\n",
      "0                   0.40                   0.80                      0.619048   \n",
      "1                   0.20                   0.50                      0.619048   \n",
      "2                   0.00                   0.00                      0.523810   \n",
      "3                   0.60                   0.00                      0.619048   \n",
      "4                   0.60                   0.00                      0.404762   \n",
      "...                  ...                    ...                           ...   \n",
      "5058                0.44                   0.00                      0.285714   \n",
      "5059                0.00                   0.15                      0.309524   \n",
      "5060                0.20                   0.00                      0.261905   \n",
      "5061                0.60                   0.75                      0.547619   \n",
      "5062                0.00                   0.00                      0.357143   \n",
      "\n",
      "      customer_available_credit_limit  credit_card_classification  \\\n",
      "0                            0.099827                         0.0   \n",
      "1                            0.014864                         0.0   \n",
      "2                            0.001567                         0.0   \n",
      "3                            0.005431                         0.0   \n",
      "4                            0.071242                         0.0   \n",
      "...                               ...                         ...   \n",
      "5058                         0.024914                         0.0   \n",
      "5059                         0.036331                         0.0   \n",
      "5060                         0.003480                         0.0   \n",
      "5061                         0.056692                         0.0   \n",
      "5062                         0.010118                         0.0   \n",
      "\n",
      "      total_products  period_inactive  ...  credit_card_debt_balance  \\\n",
      "0           0.000000              0.4  ...                  0.642034   \n",
      "1           0.056604              0.2  ...                  0.187525   \n",
      "2           0.018868              0.2  ...                  0.398490   \n",
      "3           0.094340              0.2  ...                  0.550258   \n",
      "4           0.094340              0.4  ...                  0.672229   \n",
      "...              ...              ...  ...                       ...   \n",
      "5058        0.075472              0.4  ...                  0.669845   \n",
      "5059        0.037736              0.2  ...                  0.311085   \n",
      "5060        0.037736              0.6  ...                  0.158919   \n",
      "5061        0.056604              0.2  ...                  0.288836   \n",
      "5062        0.018868              0.2  ...                  0.497815   \n",
      "\n",
      "      remaining_credit_limit  transaction_amount_ratio  \\\n",
      "0                   0.888730                  0.232150   \n",
      "1                   0.158115                  0.189544   \n",
      "2                   0.023115                  0.224373   \n",
      "3                   0.046758                  0.223238   \n",
      "4                   0.629501                  0.234274   \n",
      "...                      ...                       ...   \n",
      "5058                0.213154                  0.402391   \n",
      "5059                0.342070                  0.187937   \n",
      "5060                0.057866                  0.246785   \n",
      "5061                0.526756                  0.401774   \n",
      "5062                0.092732                  0.256989   \n",
      "\n",
      "      total_transaction_amount  total_transaction_count  \\\n",
      "0                     0.054351                 0.596639   \n",
      "1                     0.014774                 0.344538   \n",
      "2                     0.277125                 0.537815   \n",
      "3                     0.033015                 0.537815   \n",
      "4                     0.024533                 0.487395   \n",
      "...                        ...                      ...   \n",
      "5058                  0.021852                 0.445378   \n",
      "5059                  0.010224                 0.176471   \n",
      "5060                  0.021438                 0.436975   \n",
      "5061                  0.004677                 0.369748   \n",
      "5062                  0.013057                 0.302521   \n",
      "\n",
      "      transaction_count_ratio  average_utilization  customer_married  \\\n",
      "0                    0.049588             0.055657               1.0   \n",
      "1                    0.060172             0.052616               1.0   \n",
      "2                    0.067933             0.552581               1.0   \n",
      "3                    0.042617             0.491569               1.0   \n",
      "4                    0.058534             0.074769               1.0   \n",
      "...                       ...                  ...               ...   \n",
      "5058                 0.056059             0.305161               0.0   \n",
      "5059                 0.050471             0.063435               1.0   \n",
      "5060                 0.045532             0.191586               1.0   \n",
      "5061                 0.029094             0.042949               0.0   \n",
      "5062                 0.034784             0.287967               1.0   \n",
      "\n",
      "      customer_single  Prediction account status  \n",
      "0                 0.0                          1  \n",
      "1                 0.0                          1  \n",
      "2                 0.0                          1  \n",
      "3                 0.0                          1  \n",
      "4                 0.0                          1  \n",
      "...               ...                        ...  \n",
      "5058              0.0                          1  \n",
      "5059              0.0                          1  \n",
      "5060              0.0                          1  \n",
      "5061              1.0                          1  \n",
      "5062              0.0                          1  \n",
      "\n",
      "[5063 rows x 21 columns]\n"
     ]
    }
   ],
   "source": [
    "# na mi_score\n",
    "base_model = DecisionTreeClassifier(criterion='entropy', max_depth=10, min_samples_leaf=4)\n",
    "bagging_model = BaggingClassifier(base_model, random_state=42)\n",
    "bagging_model.fit(df.loc[:, mi_score], df.loc[:, y_col])\n",
    "\n",
    "df_test['Prediction account status'] = bagging_model.predict(df_test.loc[:, mi_score])\n",
    "\n",
    "print(\"Test Results:\")\n",
    "print(df_test)"
   ]
  }
 ],
 "metadata": {
  "kernelspec": {
   "display_name": "Python 3",
   "language": "python",
   "name": "python3"
  },
  "language_info": {
   "codemirror_mode": {
    "name": "ipython",
    "version": 3
   },
   "file_extension": ".py",
   "mimetype": "text/x-python",
   "name": "python",
   "nbconvert_exporter": "python",
   "pygments_lexer": "ipython3",
   "version": "3.11.2"
  },
  "orig_nbformat": 4
 },
 "nbformat": 4,
 "nbformat_minor": 2
}
