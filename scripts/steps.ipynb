{
 "cells": [
  {
   "attachments": {},
   "cell_type": "markdown",
   "metadata": {},
   "source": [
    "## Steps taken in the project"
   ]
  },
  {
   "attachments": {},
   "cell_type": "markdown",
   "metadata": {},
   "source": [
    "1. Split the data: Divide total dataset into a training set and a test set.\n",
    "2. Grid Search with Cross-Validation: Run the grid_search function, which applies grid search and cross-validation to tune the hyperparameters of your model and select the best ones.\n",
    "3. Bagging: Use the best hyperparameters to train your final model using a bagging method (like BaggingClassifier or RandomForestClassifier). The hyperparameters from the previous step are be used to configure the base estimator of the bagging model.\n",
    "4. Cross-Validation Again: Apply the cross_validation or cross_validation_accuracy function to evaluate the performance of the final model. This step gives you a robust estimate of how well your model is expected to perform on unseen data, as it averages results over several different train/test splits.\n",
    "5. Test Set Evaluation: Evaluate the performance of the final model on this test set. This provides a final, unbiased estimate of how well your model is expected to perform on new data.\n",
    "\n",
    "Each of these steps contributes to building a robust model that generalizes well to new data:\n",
    "\n",
    "* **Grid search** with cross-validation helps we find the best hyperparameters for your model.\n",
    "* **Bagging** helps reduce the variance of the model, making it more robust to fluctuations in the training data.\n",
    "* **The second round of cross-validation** gives a robust estimate of how well the final model is likely to perform on new data.\n",
    "* **Evaluation on a separate test** set provides a final check to make sure your model hasn't been overfit to the training or validation data."
   ]
  },
  {
   "attachments": {},
   "cell_type": "markdown",
   "metadata": {},
   "source": [
    "## Plan"
   ]
  },
  {
   "attachments": {},
   "cell_type": "markdown",
   "metadata": {},
   "source": [
    "Models after grid search:\n",
    "* SVM\n",
    "* Decision treee\n",
    "\n",
    "TO DO:\n",
    "* KNN\n",
    "* Logistic regression"
   ]
  },
  {
   "attachments": {},
   "cell_type": "markdown",
   "metadata": {},
   "source": [
    "## Outcome"
   ]
  },
  {
   "attachments": {},
   "cell_type": "markdown",
   "metadata": {},
   "source": [
    "Names of dataframes used in the analysis:\n",
    "df_new - train data (0.67) <br>\n",
    "test_new - test data (0.33)\n",
    "\n",
    "Best model parameters after grid search:<br>\n",
    "* SVM:\n",
    "    * Data type: f_score\n",
    "    * C = 20\n",
    "    * gamma = 1\n",
    "* Decision tree:\n",
    "    * Data type: boruta\n",
    "    * max_depth = 10\n",
    "    * min_samples_leaf = 2\n",
    "* f_score:\n",
    "    * \n"
   ]
  }
 ],
 "metadata": {
  "language_info": {
   "name": "python"
  },
  "orig_nbformat": 4
 },
 "nbformat": 4,
 "nbformat_minor": 2
}
